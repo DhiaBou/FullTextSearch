{
  "cells" : [
    {
      "cell_type" : "code",
      "execution_count" : 1,
      "metadata" : {},
      "outputs" : [],
      "source" : [ "import json\n", "import re" ]
    },
    {
      "cell_type" : "code",
      "execution_count" : 2,
      "metadata" : {},
      "outputs" : [],
      "source" : [
        "def parse_elastic_result(file_path):\n", "    with open(file_path) as file:\n",
        "        data = file.read()\n", "\n",
        "    data = re.sub(r'\"\"\"(.*?)\"\"\"', lambda m: json.dumps(m.group(1)), data, "
        "flags=re.DOTALL)\n",
        "    json_data = json.loads(data)\n", "\n",
        "    return [hit['_source']['column1'] for hit in json_data['hits']['hits']]"
      ]
    },
    {
      "cell_type" : "code",
      "execution_count" : 3,
      "metadata" : {},
      "outputs" : [],
      "source" : [
        "def parse_our_result(file_path):\n", "    with open(file_path) as file:\n",
        "        data = file.readlines()\n", "\n", "    return [line.strip() for line in data]"
      ]
    },
    {
      "cell_type" : "code",
      "execution_count" : null,
      "metadata" : {},
      "outputs" : [],
      "source" : [
        "queries = ['cat', 'cat salmon', 'cat salmon fresh', 'my cat eats a salmon a day']\n",
        "limit = 100\n",
        "\n",
        "# this expects a results folder with the following structure:\n",
        "# results\n",
        "# ├── ElasticSearch\n",
        "# │   ├── elastic_cat.txt\n",
        "# │   ├── ...\n",
        "# └── Trigram\n",
        "#     ├── stemming_cat.txt\n",
        "#     ├── ...\n",
        "#     ├── unstemmed_cat.txt\n",
        "#     ├── ...\n",
        "for query in queries:\n",
        "    elastic_file_path = f\"../results/ElasticSearch/elastic_{query.replace(' ', "
        "'-')}.txt\"\n",
        "    elastic_result = parse_elastic_result(elastic_file_path)\n",
        "    trigram_with_stemmer_file_path = f\"../results/Trigram/stemming_{query.replace(' ', "
        "'-')}.txt\"\n",
        "    trigram_with_stemmer_result = parse_our_result(trigram_with_stemmer_file_path)\n",
        "    trigram_without_stemmer_file_path = f\"../results/Trigram/unstemmed_{query.replace(' "
        "', '-')}.txt\"\n",
        "    trigram_without_stemmer_result = "
        "parse_our_result(trigram_without_stemmer_file_path)\n",
        "\n",
        "    elastic_result_set = set(elastic_result[:limit])\n",
        "    trigram_with_stemmer_result_set = set(trigram_with_stemmer_result[:limit])\n",
        "    trigram_without_stemmer_result_set = set(trigram_without_stemmer_result[:limit])\n",
        "    intersection_with_stemmer = "
        "elastic_result_set.intersection(trigram_with_stemmer_result_set)\n",
        "    intersection_without_stemmer = "
        "elastic_result_set.intersection(trigram_without_stemmer_result_set)\n",
        "    print(f'\"{query}\": {len(intersection_with_stemmer)} with stemmer, "
        "{len(intersection_without_stemmer)} without stemmer')"
      ]
    }
  ],
  "metadata" : {
    "kernelspec" : {"display_name" : "base", "language" : "python", "name" : "python3"},
    "language_info" : {
      "codemirror_mode" : {"name" : "ipython", "version" : 3},
      "file_extension" : ".py",
      "mimetype" : "text/x-python",
      "name" : "python",
      "nbconvert_exporter" : "python",
      "pygments_lexer" : "ipython3",
      "version" : "3.11.5"
    }
  },
  "nbformat" : 4,
  "nbformat_minor" : 2
}
